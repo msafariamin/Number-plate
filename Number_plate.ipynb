{
 "cells": [
  {
   "cell_type": "code",
   "execution_count": 2,
   "metadata": {},
   "outputs": [
    {
     "name": "stdout",
     "output_type": "stream",
     "text": [
      "AB-123-CD\n",
      "il ne s'agit pas d'une plaque\n"
     ]
    }
   ],
   "source": [
    "import re\n",
    "\n",
    "plaque = input()\n",
    "prog = re.findall('^[A-Z]{2}-\\d{3}-[A-Z]{2}$', plaque)\n",
    "\n",
    "if len(prog) == plaque:       # ou !=0\n",
    "    print(\"ceci est une plaque\")\n",
    "    \n",
    "else:\n",
    "    print(\"il ne s'agit pas d'une plaque\")"
   ]
  }
 ],
 "metadata": {
  "kernelspec": {
   "display_name": "Python 3",
   "language": "python",
   "name": "python3"
  },
  "language_info": {
   "codemirror_mode": {
    "name": "ipython",
    "version": 3
   },
   "file_extension": ".py",
   "mimetype": "text/x-python",
   "name": "python",
   "nbconvert_exporter": "python",
   "pygments_lexer": "ipython3",
   "version": "3.7.3"
  }
 },
 "nbformat": 4,
 "nbformat_minor": 2
}
